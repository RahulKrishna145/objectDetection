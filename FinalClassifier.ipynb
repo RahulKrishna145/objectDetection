{
 "cells": [
  {
   "cell_type": "markdown",
   "id": "8c14096b",
   "metadata": {},
   "source": [
    "#### First we import the neccesary libraries"
   ]
  },
  {
   "cell_type": "code",
   "execution_count": 1,
   "id": "bc602b1f",
   "metadata": {},
   "outputs": [],
   "source": [
    "import pandas as pd\n",
    "from sklearn.preprocessing import MinMaxScaler\n",
    "import joblib"
   ]
  },
  {
   "cell_type": "markdown",
   "id": "81440850",
   "metadata": {},
   "source": [
    "#### Reading and preprocessing the dataset"
   ]
  },
  {
   "cell_type": "code",
   "execution_count": 2,
   "id": "2cfe0716",
   "metadata": {},
   "outputs": [],
   "source": [
    "df = pd.read_csv(\"data/cocoset.csv\").dropna()\n",
    "df.columns = df.columns.str.lstrip().str.strip().str.replace(' ','_')"
   ]
  },
  {
   "cell_type": "code",
   "execution_count": 3,
   "id": "a47feed9",
   "metadata": {},
   "outputs": [],
   "source": [
    "%%capture\n",
    "scaler = MinMaxScaler()\n",
    "for col in df.columns:\n",
    "    x = col+'x'\n",
    "    y = col+'y'\n",
    "    z = col+'z'\n",
    "    #splitting\n",
    "    df[[x, y,z]] = df[col].str.strip('()').str.split(',', expand=True)\n",
    "    #converting to number\n",
    "    df[x] = df[x].apply(pd.to_numeric, errors='coerce')\n",
    "    df[y] = df[y].apply(pd.to_numeric, errors='coerce')\n",
    "    #scaling to range\n",
    "    df[x] = scaler.fit_transform(df[[x]])\n",
    "    df[y] = scaler.fit_transform(df[[y]])\n",
    "\n",
    "    #dropping redundant cols\n",
    "    df.drop([col], inplace=True, axis=1)\n",
    "    df.drop([z],inplace=True,axis=1)\n",
    "df.dropna()"
   ]
  },
  {
   "cell_type": "markdown",
   "id": "f143f6f3",
   "metadata": {},
   "source": [
    "#### Reordering and renaming column"
   ]
  },
  {
   "cell_type": "code",
   "execution_count": null,
   "id": "b81215e2",
   "metadata": {},
   "outputs": [],
   "source": [
    "old_columns = joblib.load(\"pkl_files/column_names.pkl\")\n",
    "mapping = joblib.load(\"pkl_files/mapping.pkl\")"
   ]
  },
  {
   "cell_type": "code",
   "execution_count": 5,
   "id": "ac04a88b",
   "metadata": {},
   "outputs": [],
   "source": [
    "reordered_columns = []\n",
    "for name in old_columns:\n",
    "    part = name.split('_(')[1].rstrip(')')\n",
    "    axis = name[0]\n",
    "    colname = mapping[part][0] if axis == 'x' else mapping[part][1]\n",
    "    reordered_columns.append(colname)\n",
    "\n",
    "df = df[reordered_columns]\n",
    "df.columns = old_columns"
   ]
  },
  {
   "cell_type": "markdown",
   "id": "0f534e26",
   "metadata": {},
   "source": [
    "#### Predicting poses"
   ]
  },
  {
   "cell_type": "code",
   "execution_count": null,
   "id": "56ad3316",
   "metadata": {},
   "outputs": [],
   "source": [
    "cla = joblib.load(\"pkl_files/rf_pretrained.pkl\")\n",
    "y_pred = pd.DataFrame(cla.predict(df))\n",
    "poses = y_pred.replace([0,1],['sitting','standing'])\n"
   ]
  },
  {
   "cell_type": "code",
   "execution_count": 7,
   "id": "fc75ba46",
   "metadata": {},
   "outputs": [
    {
     "data": {
      "text/html": [
       "<div>\n",
       "<style scoped>\n",
       "    .dataframe tbody tr th:only-of-type {\n",
       "        vertical-align: middle;\n",
       "    }\n",
       "\n",
       "    .dataframe tbody tr th {\n",
       "        vertical-align: top;\n",
       "    }\n",
       "\n",
       "    .dataframe thead th {\n",
       "        text-align: right;\n",
       "    }\n",
       "</style>\n",
       "<table border=\"1\" class=\"dataframe\">\n",
       "  <thead>\n",
       "    <tr style=\"text-align: right;\">\n",
       "      <th></th>\n",
       "      <th>0</th>\n",
       "    </tr>\n",
       "  </thead>\n",
       "  <tbody>\n",
       "    <tr>\n",
       "      <th>0</th>\n",
       "      <td>standing</td>\n",
       "    </tr>\n",
       "    <tr>\n",
       "      <th>1</th>\n",
       "      <td>standing</td>\n",
       "    </tr>\n",
       "    <tr>\n",
       "      <th>2</th>\n",
       "      <td>standing</td>\n",
       "    </tr>\n",
       "    <tr>\n",
       "      <th>3</th>\n",
       "      <td>standing</td>\n",
       "    </tr>\n",
       "    <tr>\n",
       "      <th>4</th>\n",
       "      <td>standing</td>\n",
       "    </tr>\n",
       "  </tbody>\n",
       "</table>\n",
       "</div>"
      ],
      "text/plain": [
       "          0\n",
       "0  standing\n",
       "1  standing\n",
       "2  standing\n",
       "3  standing\n",
       "4  standing"
      ]
     },
     "execution_count": 7,
     "metadata": {},
     "output_type": "execute_result"
    }
   ],
   "source": [
    "poses.head()"
   ]
  }
 ],
 "metadata": {
  "kernelspec": {
   "display_name": "armada",
   "language": "python",
   "name": "python3"
  },
  "language_info": {
   "codemirror_mode": {
    "name": "ipython",
    "version": 3
   },
   "file_extension": ".py",
   "mimetype": "text/x-python",
   "name": "python",
   "nbconvert_exporter": "python",
   "pygments_lexer": "ipython3",
   "version": "3.9.21"
  }
 },
 "nbformat": 4,
 "nbformat_minor": 5
}
